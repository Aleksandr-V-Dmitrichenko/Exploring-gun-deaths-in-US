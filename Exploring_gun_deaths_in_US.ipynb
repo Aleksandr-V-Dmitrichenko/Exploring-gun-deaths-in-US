{
 "cells": [
  {
   "cell_type": "code",
   "execution_count": 1,
   "metadata": {},
   "outputs": [
    {
     "name": "stdout",
     "output_type": "stream",
     "text": [
      "['', 'year', 'month', 'intent', 'police', 'sex', 'age', 'race', 'hispanic', 'place', 'education']\n",
      "[['1', '2012', '01', 'Suicide', '0', 'M', '34', 'Asian/Pacific Islander', '100', 'Home', '4'], ['2', '2012', '01', 'Suicide', '0', 'F', '21', 'White', '100', 'Street', '3'], ['3', '2012', '01', 'Suicide', '0', 'M', '60', 'White', '100', 'Other specified', '4'], ['4', '2012', '02', 'Suicide', '0', 'M', '64', 'White', '100', 'Home', '4'], ['5', '2012', '02', 'Suicide', '0', 'M', '31', 'White', '100', 'Other specified', '2']]\n"
     ]
    }
   ],
   "source": [
    "import csv\n",
    "f = open('guns.csv', 'r')\n",
    "csvread = csv.reader(f)\n",
    "data = list(csvread)\n",
    "headers = data[0]\n",
    "data.remove(headers)\n",
    "print(headers)\n",
    "print(data[:5])"
   ]
  },
  {
   "cell_type": "markdown",
   "metadata": {},
   "source": [
    "# Features descriptions:\n",
    "* year -- the year in which the fatality occurred.\n",
    "* month -- the month in which the fatality occurred.\n",
    "* intent -- the intent of the perpetrator of the crime. This can be Suicide, Accidental, NA, Homicide, or Undetermined.\n",
    "* police -- whether a police officer was involved with the shooting. Either 0 (false) or 1 (true).\n",
    "* sex -- the gender of the victim. Either M or F.\n",
    "* age -- the age of the victim.\n",
    "* race -- the race of the victim. Either Asian/Pacific Islander, Native American/Native Alaskan, Black, Hispanic, or White.\n",
    "* hispanic -- a code indicating the Hispanic origin of the victim.\n",
    "* place -- where the shooting occurred. \n",
    "* education -- educational status of the victim. Can be one of the following:\n",
    " * 1 -- Less than High School\n",
    " * 2 -- Graduated from High School or equivalent\n",
    " * 3 -- Some College\n",
    " * 4 -- At least graduated from College\n",
    " * 5 -- Not available"
   ]
  },
  {
   "cell_type": "code",
   "execution_count": 2,
   "metadata": {
    "collapsed": true
   },
   "outputs": [],
   "source": [
    "# function for determine amount of deaths by gun associated by the year, sex,race\n",
    "def var_counts(column):\n",
    "    column_list = [row[column] for row in data]\n",
    "    column_dict = {}\n",
    "    for c in column_list:\n",
    "        if c not in column_dict:\n",
    "            column_dict[c] = 1\n",
    "        else:\n",
    "            column_dict[c] += 1\n",
    "    return column_dict"
   ]
  },
  {
   "cell_type": "code",
   "execution_count": 3,
   "metadata": {},
   "outputs": [
    {
     "name": "stdout",
     "output_type": "stream",
     "text": [
      "{'2012': 33563, '2013': 33636, '2014': 33599}\n",
      "{'M': 86349, 'F': 14449}\n",
      "{'Asian/Pacific Islander': 1326, 'White': 66237, 'Native American/Native Alaskan': 917, 'Black': 23296, 'Hispanic': 9022}\n"
     ]
    }
   ],
   "source": [
    "year_counts = var_counts(1)\n",
    "print(year_counts)\n",
    "sex_counts = var_counts(5)\n",
    "print(sex_counts)\n",
    "race_counts = var_counts(7)\n",
    "print(race_counts)"
   ]
  },
  {
   "cell_type": "code",
   "execution_count": 4,
   "metadata": {},
   "outputs": [
    {
     "name": "stdout",
     "output_type": "stream",
     "text": [
      "{'January 2012': 2758, 'February 2012': 2357, 'March 2012': 2743, 'April 2012': 2795, 'May 2012': 2999, 'June 2012': 2826, 'July 2012': 3026, 'August 2012': 2954, 'September 2012': 2852, 'October 2012': 2733, 'November 2012': 2729, 'December 2012': 2791, 'January 2013': 2864, 'February 2013': 2375, 'March 2013': 2862, 'April 2013': 2798, 'May 2013': 2806, 'June 2013': 2920, 'July 2013': 3079, 'August 2013': 2859, 'September 2013': 2742, 'October 2013': 2808, 'November 2013': 2758, 'December 2013': 2765, 'January 2014': 2651, 'February 2014': 2361, 'March 2014': 2684, 'April 2014': 2862, 'May 2014': 2864, 'June 2014': 2931, 'July 2014': 2884, 'August 2014': 2970, 'September 2014': 2914, 'October 2014': 2865, 'November 2014': 2756, 'December 2014': 2857}\n"
     ]
    }
   ],
   "source": [
    "# same for date feature just with converting specials\n",
    "import datetime\n",
    "dates = [datetime.datetime(year=int(row[1]),month=int(row[2]),day=1) for row in data]\n",
    "date_counts = {}\n",
    "for date in dates:\n",
    "    date = date.strftime('%B %Y')\n",
    "    if date not in date_counts:\n",
    "        date_counts[date] = 1\n",
    "    else:\n",
    "        date_counts[date] +=1\n",
    "print(date_counts)"
   ]
  },
  {
   "cell_type": "code",
   "execution_count": 5,
   "metadata": {},
   "outputs": [
    {
     "data": {
      "text/plain": [
       "[['Id',\n",
       "  'Year',\n",
       "  'Id',\n",
       "  'Sex',\n",
       "  'Id',\n",
       "  'Hispanic Origin',\n",
       "  'Id',\n",
       "  'Id2',\n",
       "  'Geography',\n",
       "  'Total',\n",
       "  'Race Alone - White',\n",
       "  'Race Alone - Hispanic',\n",
       "  'Race Alone - Black or African American',\n",
       "  'Race Alone - American Indian and Alaska Native',\n",
       "  'Race Alone - Asian',\n",
       "  'Race Alone - Native Hawaiian and Other Pacific Islander',\n",
       "  'Two or More Races'],\n",
       " ['cen42010',\n",
       "  'April 1, 2010 Census',\n",
       "  'totsex',\n",
       "  'Both Sexes',\n",
       "  'tothisp',\n",
       "  'Total',\n",
       "  '0100000US',\n",
       "  '',\n",
       "  'United States',\n",
       "  '308745538',\n",
       "  '197318956',\n",
       "  '44618105',\n",
       "  '40250635',\n",
       "  '3739506',\n",
       "  '15159516',\n",
       "  '674625',\n",
       "  '6984195']]"
      ]
     },
     "execution_count": 5,
     "metadata": {},
     "output_type": "execute_result"
    }
   ],
   "source": [
    "# upload set with data about race population in US by 2010 \n",
    "f = open('census.csv','r')\n",
    "census = list(csv.reader(f))\n",
    "census"
   ]
  },
  {
   "cell_type": "code",
   "execution_count": 6,
   "metadata": {},
   "outputs": [
    {
     "name": "stdout",
     "output_type": "stream",
     "text": [
      "7658820\n"
     ]
    }
   ],
   "source": [
    "# adapting  census data to gun set\n",
    "Asian_Pacific_Islander = 6984195+674625\n",
    "print(Asian_Pacific_Islander)"
   ]
  },
  {
   "cell_type": "code",
   "execution_count": 7,
   "metadata": {
    "collapsed": true
   },
   "outputs": [],
   "source": [
    "mapping = {'Hispanic': 44618105, \n",
    "           'White': 197318956, \n",
    "           'Black': 40250635, \n",
    "           'Native American/Native Alaskan': 3739506, \n",
    "           'Asian/Pacific Islander': 7658820}\n"
   ]
  },
  {
   "cell_type": "code",
   "execution_count": 8,
   "metadata": {},
   "outputs": [
    {
     "name": "stdout",
     "output_type": "stream",
     "text": [
      "{'Asian/Pacific Islander': 17.313372033811998, 'White': 33.56849303419181, 'Native American/Native Alaskan': 24.521955573811088, 'Black': 57.8773477735196, 'Hispanic': 20.220491210910907}\n"
     ]
    }
   ],
   "source": [
    "def per_hundredk(d):\n",
    "    per_hundredk = {}\n",
    "    for key in race_counts:\n",
    "        per_hundredk[key] = d[key]/mapping[key]*100000\n",
    "    return per_hundredk\n",
    "per_hundred_race_counts = per_hundredk(race_counts)\n",
    "# deaths by gun in each race on 100k\n",
    "print(per_hundred_race_counts)"
   ]
  },
  {
   "cell_type": "code",
   "execution_count": 9,
   "metadata": {},
   "outputs": [
    {
     "name": "stdout",
     "output_type": "stream",
     "text": [
      "{'Asian/Pacific Islander': 7.298774484842313, 'White': 4.6356417981453335, 'Native American/Native Alaskan': 8.717729026240365, 'Black': 48.471284987180944, 'Hispanic': 12.627161104219914}\n"
     ]
    }
   ],
   "source": [
    "# determine how many homicide deaths in which race\n",
    "intents = [row[3] for row in data]\n",
    "races = [row[7] for row in data]\n",
    "homicade_race_counts = {}\n",
    "for i, race in enumerate(races):\n",
    "    if intents[i] == 'Homicide':\n",
    "        if race not in homicade_race_counts:\n",
    "            homicade_race_counts[race] = 1\n",
    "        else:\n",
    "            homicade_race_counts[race] += 1\n",
    "per_hundredk_homicide_race_counts = per_hundredk(homicade_race_counts)\n",
    "print(per_hundredk_homicide_race_counts)"
   ]
  },
  {
   "cell_type": "code",
   "execution_count": 10,
   "metadata": {},
   "outputs": [
    {
     "name": "stdout",
     "output_type": "stream",
     "text": [
      "{'Asian/Pacific Islander': 42.16, 'White': 13.81, 'Native American/Native Alaskan': 35.55, 'Black': 83.75, 'Hispanic': 62.45}\n"
     ]
    }
   ],
   "source": [
    "# percent homicide by gun deads associated of race per 100000\n",
    "percent_homicide = {}\n",
    "for key in per_hundred_race_counts:\n",
    "    percent_homicide[key] = round(per_hundredk_homicide_race_counts[key]/per_hundred_race_counts[key]*100, 2)\n",
    "print(percent_homicide)    "
   ]
  },
  {
   "cell_type": "code",
   "execution_count": 11,
   "metadata": {},
   "outputs": [
    {
     "name": "stdout",
     "output_type": "stream",
     "text": [
      "{'March': 2780, 'April': 2845, 'June': 3130, 'July': 3269, 'August': 3125, 'September': 2966, 'October': 2968, 'December': 3191, 'January': 2829, 'February': 2178, 'May': 2976, 'November': 2919}\n",
      "{'2012': 12093, '2013': 11674, '2014': 11409}\n"
     ]
    }
   ],
   "source": [
    "# homicade rate by month and year\n",
    "homicade_month_rate = {}\n",
    "homicade_year_rate = {}\n",
    "for i, date in enumerate(dates):\n",
    "    if intents[i] == 'Homicide':\n",
    "        month = date.strftime('%B')\n",
    "        year = date.strftime('%Y')\n",
    "        if month not in homicade_month_rate:\n",
    "            homicade_month_rate[month] = 1\n",
    "        else:\n",
    "            homicade_month_rate[month] +=1\n",
    "        if year not in homicade_year_rate:\n",
    "            homicade_year_rate[year] = 1\n",
    "        else:\n",
    "            homicade_year_rate[year] += 1\n",
    "print(homicade_month_rate)\n",
    "print(homicade_year_rate)"
   ]
  },
  {
   "cell_type": "code",
   "execution_count": 12,
   "metadata": {},
   "outputs": [
    {
     "name": "stdout",
     "output_type": "stream",
     "text": [
      "{'M': 29803, 'F': 5373}\n"
     ]
    }
   ],
   "source": [
    "# homicade rate by gender\n",
    "homicide_gender_rate = {}\n",
    "gender = [row[5] for row in data]\n",
    "for i, sex in enumerate(gender):\n",
    "    if intents[i] == 'Homicide':\n",
    "        if sex not in homicide_gender_rate:\n",
    "            homicide_gender_rate[sex] = 1\n",
    "        else:\n",
    "            homicide_gender_rate[sex] += 1\n",
    "print(homicide_gender_rate)"
   ]
  },
  {
   "cell_type": "code",
   "execution_count": 13,
   "metadata": {},
   "outputs": [
    {
     "name": "stdout",
     "output_type": "stream",
     "text": [
      "{'M': 35, 'F': 37}\n"
     ]
    }
   ],
   "source": [
    "# percent homicide by gender\n",
    "percent_homicide_gender = {}\n",
    "for key in sex_counts:\n",
    "    percent_homicide_gender[key] = round(homicide_gender_rate[key]/sex_counts[key]*100 )\n",
    "print(percent_homicide_gender)"
   ]
  },
  {
   "cell_type": "code",
   "execution_count": 14,
   "metadata": {},
   "outputs": [
    {
     "name": "stdout",
     "output_type": "stream",
     "text": [
      "{'27': 1136, '31': 928, '47': 438, '51': 375, '41': 540, '43': 493, '25': 1300, '26': 1245, '59': 204, '28': 1119, '38': 625, '40': 555, '19': 1364, '30': 993, '34': 867, '9': 36, '24': 1442, '61': 155, '58': 204, '55': 232, '23': 1459, '52': 336, '45': 399, '53': 295, '68': 95, '48': 386, '62': 155, '36': 718, '39': 552, '35': 782, '22': 1628, '33': 884, '49': 414, '44': 435, '46': 401, '21': 1570, '42': 537, '50': 387, '20': 1467, '18': 1138, '32': 964, '15': 261, '29': 1055, '17': 710, '54': 261, '13': 85, '71': 56, '3': 36, '65': 101, '5': 34, '63': 112, '57': 214, '37': 646, '12': 50, '80': 37, '73': 58, '72': 51, '4': 32, '56': 250, '64': 130, '67': 89, '96': 3, '60': 145, '78': 46, '16': 474, '7': 38, '14': 125, '70': 54, '90': 10, '83': 28, '87': 12, '0': 22, '69': 60, '88': 11, '85': 19, '1': 34, '66': 106, '79': 29, '81': 26, '2': 29, '11': 39, '74': 43, '84': 30, '75': 35, '8': 23, '76': 40, '89': 12, '6': 42, '82': 20, '77': 25, '93': 3, '10': 37, '94': 2, '95': 3, '92': 3, '86': 11, '99': 1, '107': 1, 'NA': 9, '91': 3, '97': 2}\n"
     ]
    }
   ],
   "source": [
    "# homicide by age\n",
    "ages = [row[6] for row in data]\n",
    "homicide_ages_rate = {}\n",
    "for i, age in enumerate(ages):\n",
    "    if intents[i] == 'Homicide':\n",
    "        if age not in homicide_ages_rate:\n",
    "            homicide_ages_rate[age] = 1\n",
    "        else:\n",
    "            homicide_ages_rate[age] += 1\n",
    "print(homicide_ages_rate)"
   ]
  },
  {
   "cell_type": "code",
   "execution_count": 15,
   "metadata": {},
   "outputs": [
    {
     "name": "stdout",
     "output_type": "stream",
     "text": [
      "{'27': 55, '31': 51, '47': 29, '51': 21, '41': 36, '43': 32, '25': 58, '26': 56, '59': 14, '28': 56, '38': 42, '40': 39, '19': 66, '30': 53, '34': 51, '9': 77, '24': 59, '61': 12, '58': 14, '55': 15, '23': 59, '52': 20, '45': 29, '53': 17, '68': 11, '48': 24, '62': 14, '36': 47, '39': 40, '35': 48, '22': 60, '33': 52, '49': 25, '44': 30, '46': 28, '21': 63, '42': 36, '50': 23, '20': 66, '18': 65, '32': 53, '15': 47, '29': 54, '17': 60, '54': 15, '13': 37, '71': 7, '3': 55, '65': 10, '5': 79, '63': 11, '57': 15, '37': 43, '12': 43, '80': 7, '73': 8, '72': 7, '4': 59, '56': 15, '64': 12, '67': 10, '96': 8, '60': 11, '78': 8, '16': 55, '7': 88, '14': 34, '70': 6, '90': 5, '83': 5, '87': 4, '0': 67, '69': 7, '88': 3, '85': 4, '1': 89, '66': 11, '79': 5, '81': 5, '2': 58, '11': 64, '74': 6, '84': 6, '75': 5, '8': 72, '76': 7, '89': 5, '6': 84, '82': 4, '77': 4, '93': 3, '10': 70, '94': 3, '95': 5, '92': 2, '86': 3, '99': 17, '107': 100, 'NA': 50, '91': 2, '97': 10}\n"
     ]
    }
   ],
   "source": [
    "# percent homi by age\n",
    "age_counts = var_counts(6)\n",
    "percent_homi_age = {}\n",
    "for key in homicide_ages_rate:\n",
    "    percent_homi_age[key] = round(homicide_ages_rate[key]/age_counts[key]*100)\n",
    "print(percent_homi_age)"
   ]
  },
  {
   "cell_type": "code",
   "execution_count": 16,
   "metadata": {},
   "outputs": [
    {
     "name": "stdout",
     "output_type": "stream",
     "text": [
      "{'Asian/Pacific Islander': 0.15668209985350223, 'White': 0.5736904466492313, 'Native American/Native Alaskan': 0.5883130017708221, 'Black': 0.814893976206835, 'Hispanic': 0.3249801846133985}\n",
      "{'Asian/Pacific Islander': 0.9049773755656108, 'White': 1.7090145990911427, 'Native American/Native Alaskan': 2.399127589967285, 'Black': 1.4079670329670328, 'Hispanic': 1.607182442917313}\n"
     ]
    }
   ],
   "source": [
    "# explore of accidental intents for race\n",
    "accidental_race_rate = {}\n",
    "for i, key in enumerate(races):\n",
    "    if intents[i] == 'Accidental':\n",
    "        if key not in accidental_race_rate:\n",
    "            accidental_race_rate[key] = 1\n",
    "        else:\n",
    "            accidental_race_rate[key] += 1\n",
    "per_hundredk_accidental_race_rate = per_hundredk(accidental_race_rate)\n",
    "print(per_hundredk_accidental_race_rate)\n",
    "# percent accidental from all amount of deaths\n",
    "percent_accidental_race = {}\n",
    "for key in per_hundred_race_counts:\n",
    "    percent_accidental_race[key] = per_hundredk_accidental_race_rate[key]/per_hundred_race_counts[key]*100\n",
    "print(percent_accidental_race)"
   ]
  },
  {
   "cell_type": "code",
   "execution_count": 17,
   "metadata": {},
   "outputs": [
    {
     "name": "stdout",
     "output_type": "stream",
     "text": [
      "{'M': 1421, 'F': 218}\n",
      "{'M': 1.64564731496601, 'F': 1.508754931137103}\n"
     ]
    }
   ],
   "source": [
    "accidental_gender_rate = {}\n",
    "for i, key in enumerate(gender):\n",
    "    if intents[i] == 'Accidental':\n",
    "        if key not in accidental_gender_rate:\n",
    "            accidental_gender_rate[key] = 1\n",
    "        else:\n",
    "            accidental_gender_rate[key] += 1\n",
    "print(accidental_gender_rate)\n",
    "# percent accidental from all amount of deaths \n",
    "percent_accidental_gender = {}\n",
    "for key in accidental_gender_rate:\n",
    "    percent_accidental_gender[key] = accidental_gender_rate[key]/sex_counts[key]*100\n",
    "print(percent_accidental_gender)"
   ]
  },
  {
   "cell_type": "code",
   "execution_count": 18,
   "metadata": {},
   "outputs": [
    {
     "name": "stdout",
     "output_type": "stream",
     "text": [
      "{'Home': 60.01, 'Street': 11.06, 'Other specified': 13.64, 'NA': 1.37, 'Other unspecified': 8.8, 'Trade/service area': 3.41, 'Farm': 0.47, 'Industrial/construction': 0.25, 'School/instiution': 0.67, 'Sports': 0.13, 'Residential institution': 0.2}\n"
     ]
    }
   ],
   "source": [
    "# gun deths associated with places \n",
    "place_count = var_counts(-2)\n",
    "length_place = len([row[-2] for row in data])\n",
    "gun_places = {}\n",
    "for key in place_count:\n",
    "    gun_places[key] = round(place_count[key]/length_place*100, 2)\n",
    "print(gun_places)"
   ]
  },
  {
   "cell_type": "code",
   "execution_count": 19,
   "metadata": {},
   "outputs": [
    {
     "name": "stdout",
     "output_type": "stream",
     "text": [
      "{'4': 12946, '3': 21680, '2': 42927, '1': 21823, '5': 1369, 'NA': 53}\n",
      "{'4': 12.84, '3': 21.51, '2': 42.59, '1': 21.65, '5': 1.36, 'NA': 0.05}\n"
     ]
    }
   ],
   "source": [
    "# gun deths associated with graduate\n",
    "graduate_count = var_counts(-1)\n",
    "print(graduate_count)\n",
    "length_graduate = len([row[-1] for row in data])\n",
    "gun_graduates = {}\n",
    "for key in graduate_count:\n",
    "    gun_graduates[key] = round(graduate_count[key]/length_graduate*100,2)\n",
    "print(gun_graduates)"
   ]
  }
 ],
 "metadata": {
  "kernelspec": {
   "display_name": "Python 3",
   "language": "python",
   "name": "python3"
  },
  "language_info": {
   "codemirror_mode": {
    "name": "ipython",
    "version": 3
   },
   "file_extension": ".py",
   "mimetype": "text/x-python",
   "name": "python",
   "nbconvert_exporter": "python",
   "pygments_lexer": "ipython3",
   "version": "3.6.3"
  }
 },
 "nbformat": 4,
 "nbformat_minor": 1
}
